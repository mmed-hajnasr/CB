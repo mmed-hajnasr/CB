{
 "cells": [
  {
   "cell_type": "code",
   "execution_count": 1,
   "metadata": {},
   "outputs": [
    {
     "name": "stdout",
     "output_type": "stream",
     "text": [
      "Bonjour !\n",
      "\n",
      "Je comprends que vous cherchez le nom du directeur de l'ISI. Malheureusement, les documents que j'ai ne mentionnent pas son nom. Ils indiquent seulement que le directeur de l'ISI est également le président de la commission désignée pour l'admission. \n",
      "\n",
      "J'espère que ces informations vous seront utiles, et n'hésitez pas à me poser d'autres questions. \n",
      "\n",
      "None\n",
      "\n",
      "Vous etes un assistant qui aide les etudiants a comprendre les documents administratifs de l'ISI.Vous avez recu cette question: quel est le nom du directeur de l'isi?\n",
      "notre database a trouve ces fichiers correspondant a cette question.Votre job est de les presenter a l'etudiant.la reponse doit etre derivee de ces données là: [\"Une commission est désignée par le directeur de l’ISI . Cette commission se compose d'un président, \\nqui est le directeur de l'ISI lui -même, et de quatre membres, comprenant au moins un enseignant de\", \"spécialités qui leur ont été attribuées ont la possibilité de postuler pour être admis à l'ISI, à condition \\nqu'ils terminent une année pour obtenir une li cence dans l'une des trois spécialités mentionnées.\", \"meilleurs étudiants.  \\nL’ISI est soumis au contrôle préalable du contrôleur des dépenses publiques et bénéficie d'une \\nautonomie financière partielle. Le budget de l’ISI est rattaché par ordre au budget de l'État\"] 1. Vous devez etre respectueux et poli.2. Vous devez etre clair et precis.3. Votre repense doit etre limitees par la requete de l'etudiant et les fichiers que vous presentez.\n"
     ]
    }
   ],
   "source": [
    "from prompt_creation import PromptCreation\n",
    "prompt_creation = PromptCreation()\n",
    "response,prompt = prompt_creation.respond(\"qui est salah salhi?\")\n",
    "print (response)\n",
    "print (prompt)"
   ]
  }
 ],
 "metadata": {
  "kernelspec": {
   "display_name": ".venv",
   "language": "python",
   "name": "python3"
  },
  "language_info": {
   "codemirror_mode": {
    "name": "ipython",
    "version": 3
   },
   "file_extension": ".py",
   "mimetype": "text/x-python",
   "name": "python",
   "nbconvert_exporter": "python",
   "pygments_lexer": "ipython3",
   "version": "3.11.9"
  }
 },
 "nbformat": 4,
 "nbformat_minor": 2
}
